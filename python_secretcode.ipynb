{
  "nbformat": 4,
  "nbformat_minor": 0,
  "metadata": {
    "colab": {
      "name": "python-secretcode",
      "provenance": [],
      "collapsed_sections": [],
      "authorship_tag": "ABX9TyPu5oY+dA4OE5bGEWf1tPPL",
      "include_colab_link": true
    },
    "kernelspec": {
      "name": "python3",
      "display_name": "Python 3"
    },
    "language_info": {
      "name": "python"
    }
  },
  "cells": [
    {
      "cell_type": "markdown",
      "metadata": {
        "id": "view-in-github",
        "colab_type": "text"
      },
      "source": [
        "<a href=\"https://colab.research.google.com/github/shadowkitty1993/secret-code-uni-work/blob/main/python_secretcode.ipynb\" target=\"_parent\"><img src=\"https://colab.research.google.com/assets/colab-badge.svg\" alt=\"Open In Colab\"/></a>"
      ]
    },
    {
      "cell_type": "code",
      "source": [
        "import time\n",
        "startTime = time.time()\n",
        "\n",
        "import tss\n",
        "from tss import Hash\n",
        "import base64\n",
        "\n",
        "secret = \"Hello, I am here for you. Do your best to get closer. There is no reason to live outside the horizon of help.\"\n",
        "t=2\n",
        "s=8\n",
        "\n",
        "shares = tss.share_secret(t, s, secret, Hash.NONE)\n",
        "\n",
        "print()\n",
        "print(\"The Secret to be shared:\\t\", secret)\n",
        "\n",
        "print()\n",
        "print(\"The {0} Shares created from the secret are:\" .format(s))\n",
        "print(\"=========================================\")\n",
        "for x in range (0,s):\n",
        "    print(base64.b64encode(shares[x]))\n",
        "\n",
        "print()\n",
        "print(\"Using {0} shares from {1} number of shares to recover the secret\" .format(t,s))\n",
        "print()\n",
        "\n",
        "reconstructed_secret = tss.reconstruct_secret(shares[0:t])\n",
        "\n",
        "print()\n",
        "print(\"Reconstructed:\\t\", reconstructed_secret.decode())\n",
        "\n",
        "executionTime = (time.time() - startTime)\n",
        "print('Execution time in seconds: ' + str(executionTime))\n"
      ],
      "metadata": {
        "colab": {
          "base_uri": "https://localhost:8080/"
        },
        "id": "7aeitmt1QP_I",
        "outputId": "03d99cb4-2790-4c7b-db65-f2aa6c2c6bee"
      },
      "execution_count": 11,
      "outputs": [
        {
          "output_type": "stream",
          "name": "stdout",
          "text": [
            "\n",
            "The Secret to be shared:\t Hello, I am here for you. Do your best to get closer. There is no reason to live outside the horizon of help.\n",
            "\n",
            "The 8 Shares created from the secret are:\n",
            "=========================================\n",
            "b'MAAAAAAAAAAAAAAAAAAAAAICAI4BpxgPiS+zEVJRPVm2ZscYFe2b9rYTUPrfq2cBbsMJIK8/IiBvKZG0m0m8Qp9SJBRlk4sbZLF9u5SLJad7yBTE7DGOWJRJOnRxxDKBVjFIF1iBCpHbk7of2A9a1BB5K2oO76j/Pu7XeNzaZceIVHhH1btsO8JYWSvXqLWfa/0oHMPzhlE68Mq1TgOUs5Fd'\n",
            "b'MAAAAAAAAAAAAAAAAAAAAAICAI4CjZ+qve8JQn/C2QUXdDqmhaGHRuFGK146P67Obf2Z8droJOZxx6UTsSMDLYo4KI1+jJiZXguakYui3PqWML3zcdNnJpwx4VlQ8/iozNYrtB95paYxqNSSBH4oC4+S7mWKfsVUzqcEWsMXZSGb2qE8uGPvripu8X3B88m4zK/zSzjQ9sG2nGyYqGtSRMEp'\n",
            "b'MAAAAAAAAAAAAAAAAAAAAAICAI4DYuLJWK+Wc2SzhTGBepjM9Wx63yV1AsuQuumLbB7pvgClJqR7nUCHXgWfCHAeLPp3cGDnSJTHfndMizjNkdoX843JDG0ZqEJPF75GuosK1SLYwEKeSAfpuVEGt/rLrWD2+BfEnmm8RD+lZYpjoB8Vaitn3XJ8YE86MxSlWGi6j5g4L7E7uA6DA7oQ4PEF'\n",
            "b'MAAAAAAAAAAAAAAAAAAAAAICAI4E2Yr71XRm5CX/Cr1OUNvBvjm/PU/s3Q3rDCdLa4GiSDBdKHFNAM1G5fdm86DsMKRIsr6GKmRPxbXwNUBX2/SdUAyu2ozBTAMSnXf64wPt6ZGS4Mj+3giTp5zMrqpff3uZRx8ZNTW5Hv2WZfa93QjKYsjyn+ECutHtRTH2mQte5dWWFvq1RDvCf7vFsWHB'\n",
            "b'MAAAAAAAAAAAAAAAAAAAAAICAI4FNveYMDT51T6OVonYXnmrzvRCpIvf9JhBiWAOamLSB+oQKjNHWijSCtH61lrKNNNBTkb4PPsSKkkeYoIMepN50lIA8H3pBRgNeTEUlV7MiKwzhSxRPtvoGrPiEt8GPH7lwc2JZfsBAAEkZV1Fp7bjsIB67LkQK+MWhezrDcwXIXV+z4o4YFnZ1GqHFVHt'\n",
            "b'MAAAAAAAAAAAAAAAAAAAAAICAI4GHHA9BPRDhhMdstV5TIQVXrheFNyKjzykHanBaVxC1p/HLPVZtBx1ILtFuU+gOEpaUVV6BkH1AFY3m9/hgjpOT7DpjnWR3jUsTvs9D7mvK+vLKhu7BbVlxsKQzUDt+XFhUKAilbLSIh7pZbtWKW+Y3Vj5eVEmg7UA3pDMqp7Mdo5dvxq0DP/0MgJB4gGZ'\n",
            "b'MAAAAAAAAAAAAAAAAAAAAAICAI4H8w1e4bTctwhs7uHvQiZ/LnWjjRi5pqkOmO6EaL8ymUWKLrdT7vnhz53ZnLWGPD1Tra0EEN6o76rZzB26I12qze5HpIS5ly4zqr3TeeSOStZqT/8U5WYee+2+cTW0unQd1nKyxXxqPOJbZRCuU9GxDxBxCgk0Eof7Hk3RPlmFsi61Zmo5KJ3vmdMDRjG1'\n",
            "b'MAAAAAAAAAAAAAAAAAAAAAICAI4IcaBZBVm4s5GFt9b8GAIPyBLPywijKqtSai5aZ3nUIf8sMEQ1lR3sTUSsVPRfAPYkzvK4wrr+bclU/C/OFmZBEqknOaw6DbeWQXJevbJ6U5ZfahR7MquR+kMf/+DeRke/NbCD2ArYloGPZUPx00E9zYXI/WzaLJK1MtpqM1gfohQazYyz75V2ygDwQDoK'\n",
            "\n",
            "Using 2 shares from 8 number of shares to recover the secret\n",
            "\n",
            "\n",
            "Reconstructed:\t Hello, I am here for you. Do your best to get closer. There is no reason to live outside the horizon of help.\n",
            "Execution time in seconds: 0.012984037399291992\n"
          ]
        }
      ]
    },
    {
      "cell_type": "code",
      "source": [
        "import time\n",
        "startTime = time.time()\n",
        "\n",
        "import tss\n",
        "from tss import Hash\n",
        "import base64\n",
        "\n",
        "secret = \"Hello, I am here for you. Do your best to get closer. There is no reason to live outside the horizon of help.\"\n",
        "t=2\n",
        "s=8\n",
        "\n",
        "shares = tss.share_secret(t, s, secret, Hash.NONE)\n",
        "\n",
        "print()\n",
        "print(\"The Secret to be shared:\\t\", secret)\n",
        "\n",
        "print()\n",
        "print(\"The {0} Shares created from the secret are:\" .format(s))\n",
        "print(\"=========================================\")\n",
        "for x in range (0,s):\n",
        "    print(base64.b64encode(shares[x]))\n",
        "\n",
        "print()\n",
        "print(\"Using {0} shares from {1} number of shares to recover the secret\" .format(t,s))\n",
        "print()\n",
        "\n",
        "reconstructed_secret = tss.reconstruct_secret(shares[0:t])\n",
        "\n",
        "print()\n",
        "print(\"Reconstructed:\\t\", reconstructed_secret.decode())\n",
        "\n",
        "\n",
        "executionTime = (time.time() - startTime)\n",
        "print('Execution time in seconds: ' + str(executionTime))\n"
      ],
      "metadata": {
        "colab": {
          "base_uri": "https://localhost:8080/"
        },
        "id": "mFoVxEIa9uY2",
        "outputId": "1de991b0-01cf-465f-9727-824277cae025"
      },
      "execution_count": 16,
      "outputs": [
        {
          "output_type": "stream",
          "name": "stdout",
          "text": [
            "\n",
            "The Secret to be shared:\t Hello, I am here for you. Do your best to get closer. There is no reason to live outside the horizon of help.\n",
            "\n",
            "The 8 Shares created from the secret are:\n",
            "=========================================\n",
            "b'MAAAAAAAAAAAAAAAAAAAAAICAI4BtUsK1p5HbTDsKxEjKSgZBUyXey/cHHQCsMUpC6Qf7Z+rgqzdkh0+BhhjZl5anO1GiV13oto351+7LK1n8NLeiy9ehnKxfJFcrzbUkQO3pZtodbdqGInZCP3PQ+8dzSb8TD6nGjaOEheYDiJw5UUPiP6yriwR8czKfIyR2BYPZXXYhxeAUyyIlYVg/tzN'\n",
            "b'MAAAAAAAAAAAAAAAAAAAAAICAI4CqTmgA5b6uruj9ZUm6v+kpfifR8jDs1mbCfGepzO1cLrbf+UOqqYckIGmZRMoQ2Q4uC9Byd0OKQbCzu6uQCrHv+/cgUvabYgKJfACWbLOy4KwW+pIpbIFv4EZPmpaOf11I/Lkhgy2jk6Ts/Bwo9usAulIn+38uqj7QLuksWK9uU+G9E3ZwbviBXyh3lsS'\n",
            "b'MAAAAAAAAAAAAAAAAAAAAAICAI4DVBfGuWeR98Jvv+klq7LPxZRuU5U/1kLslxTzw7fT8lAC3Su2S88C4vblZCgG/+oSXgFTGSkZmjEckCbp2Ys5Wq+idVwKYnY4qrK56N0QGHz4QShWzlK40lyiFeBnnLT7BrYs8hpX+nlj2L5waFjNjeQeeVung30dVF+3lk7TBFlFLHvuRj/EdSsXNyau'\n",
            "b'MAAAAAAAAAAAAAAAAAAAAAICAI4Ekd3vsoabD7Y9UoYsd0rF/ouPPx399gOyYJnr5Ab6UfA7nnez2stYp6g3Y4nM5m3E2sstH9N8rrQwEWgnO8H113TDjzkMT7qmKme10ss8F7AbB1AMxMSmynmuxHvUylB8/XFipXjGrfyF0k9wL/zxDcen/XQ9LGCZONXOY4rCGjs6Evlr/o42PpU4nk63'\n",
            "b'MAAAAAAAAAAAAAAAAAAAAAICAI4FbPOJCHfwQs/xGPovNgeunud+K0ABkxjF/nyGgIKc0xriPLkLO6JG1d90YrLiWuPuPOU/zydrHYPuT6BgomALMjS9ey7cQESUpSUOY6TixE5THZISryQbp6QV7/Hpbxny2DWq0W4n2ct1uQFw5H+QgsrxG8JmFbV/LDHdRKaspy35ys9ceQoQTsKOdzML'\n",
            "b'MAAAAAAAAAAAAAAAAAAAAAICAI4GcIEj3X9NlUS+xn4q9dATPlN2F6cePDVcR0gxLBU2Tj+SwfDYAxlkQ0axYf+QhWqQDZcJpCBS09qXreOpEpgSBvQ/fBe3UV3CL+PYqxWbqleLM88wEh/HENjDknSum8J7t/npTVQfRZJ+BNNwouEzCN0LKgOLXtFOEAboLdIeexenuZUF65163jtPV7TU'\n",
            "b'MAAAAAAAAAAAAAAAAAAAAAICAI4Hja9FZ44m2D1yjAIptJ14Xj+HA/riWS4r2a1cSJFQzNVLYz5g4nB6MTHyYMS+OeS667kbdNRFYO1J8yvuizns47RBiABnXqPwoKFjGnpFeanDKQ0uef96fQV4uf6TPov1kr0hOUL+MaWOb51waWJSh9BdzLXQZwSoBOL7Cv5wxgFkYaMybBlcrmz5vslo'\n",
            "b'MAAAAAAAAAAAAAAAAAAAAAICAI4I4Q5xy6ZZfqwaB6A4VjsHSG2vz6yBfLfgskkBYmxkE2TgR0jSOhHQyfoOb6Yft38nHhj1qM+Yu8vPtH8uzQyRB1n9k927C97lNFLA3znDtNRWvz+EBij7IJLbK1nTNxFuWmx145Am64OpECpwLLJLE5tiOV2kG+tdyAka3EE8R9NZxYoUgOSFSFwRHmTm'\n",
            "\n",
            "Using 2 shares from 8 number of shares to recover the secret\n",
            "\n",
            "\n",
            "Reconstructed:\t Hello, I am here for you. Do your best to get closer. There is no reason to live outside the horizon of help.\n",
            "Execution time in seconds: 0.009342670440673828\n"
          ]
        }
      ]
    },
    {
      "cell_type": "code",
      "source": [
        "import time\n",
        "startTime = time.time()\n",
        "\n",
        "import tss\n",
        "from tss import Hash\n",
        "import base64\n",
        "\n",
        "secret = \"Hello, I am here for you. Do your best to get closer. There is no reason to live outside the horizon of help.\"\n",
        "t=2\n",
        "s=3\n",
        "\n",
        "shares = tss.share_secret(t, s, secret, Hash.NONE)\n",
        "\n",
        "print()\n",
        "print(\"The Secret to be shared:\\t\", secret)\n",
        "\n",
        "print()\n",
        "print(\"The {0} Shares created from the secret are:\" .format(s))\n",
        "print(\"=========================================\")\n",
        "for x in range (0,s):\n",
        "    print(base64.b64encode(shares[x]))\n",
        "\n",
        "print()\n",
        "print(\"Using {0} shares from {1} number of shares to recover the secret\" .format(t,s))\n",
        "print()\n",
        "\n",
        "reconstructed_secret = tss.reconstruct_secret(shares[0:t])\n",
        "\n",
        "print()\n",
        "print(\"Reconstructed:\\t\", reconstructed_secret.decode())\n",
        "\n",
        "executionTime = (time.time() - startTime)\n",
        "print('Execution time in seconds: ' + str(executionTime))"
      ],
      "metadata": {
        "colab": {
          "base_uri": "https://localhost:8080/"
        },
        "id": "dawjmSUL18s6",
        "outputId": "0e10de70-c0db-4cd2-f5c0-21e06aff36e7"
      },
      "execution_count": 21,
      "outputs": [
        {
          "output_type": "stream",
          "name": "stdout",
          "text": [
            "\n",
            "The Secret to be shared:\t Hello, I am here for you. Do your best to get closer. There is no reason to live outside the horizon of help.\n",
            "\n",
            "The 3 Shares created from the secret are:\n",
            "=========================================\n",
            "b'MAAAAAAAAAAAAAAAAAAAAAICAI4BuYhN2H8mMamu7qRODhobmFnO7Ft8po0v1t1iYeWszX8nc2ZF/z+wEXQ/PgD1YR3q9ri6KD2AMsImWBZdXarvZKtYy40lJQY5eS8TbP8Z07ebT0lq7SdszUFXxtKMOz5rGQWlZej0iP8g8OMsiZ3xZir8lDyWCbhrtPpplqSN8PATYBNlhM0ENW0fxH/1'\n",
            "b'MAAAAAAAAAAAAAAAAAAAAAICAI4CsaQuH084ApInZOT8pJughNItciCY3LDBxcEIc7HIMGHYhmolcOIbvlke1a9top97Rv7Axgh7mCfjJoPaAdqlevzQG67p373AksKXuFGJJ9pNLw1IVPV0LuIyLxBjzs1AiYTgeKtCoYX4VGnIe3BLxVrU683pUUCiy1dPLR2iiF4LIUUIdGLhXrdfqgZi'\n",
            "b'MAAAAAAAAAAAAAAAAAAAAAICAI4DQEkPq18yE3Kp6y2SwuTJeauF8QnEA1KbPTwufXQdkmuN1W4F/KmL20IBjMrs4+H93zUfnBvb/o2gDPCnNQNqcDiookatidSXy5nr9ML5ggj2DzFWyrt8hoMRgafPnZxZ+fsqc2PZT1qwweaU3CvUpIPMN2s1kOHlF8WkRINOoM0DHnfaJAdLjgiWedjm'\n",
            "\n",
            "Using 2 shares from 3 number of shares to recover the secret\n",
            "\n",
            "\n",
            "Reconstructed:\t Hello, I am here for you. Do your best to get closer. There is no reason to live outside the horizon of help.\n",
            "Execution time in seconds: 0.0034470558166503906\n"
          ]
        }
      ]
    },
    {
      "cell_type": "code",
      "source": [
        "import time\n",
        "startTime = time.time()\n",
        "\n",
        "import tss\n",
        "from tss import Hash\n",
        "import base64\n",
        "\n",
        "secret = \"Hello, I am here for you. Do your best to get closer. There is no reason to live outside the horizon of help.\"\n",
        "t=2\n",
        "s=4\n",
        "\n",
        "shares = tss.share_secret(t, s, secret, Hash.NONE)\n",
        "\n",
        "print()\n",
        "print(\"The Secret to be shared:\\t\", secret)\n",
        "\n",
        "print()\n",
        "print(\"The {0} Shares created from the secret are:\" .format(s))\n",
        "print(\"=========================================\")\n",
        "for x in range (0,s):\n",
        "    print(base64.b64encode(shares[x]))\n",
        "\n",
        "print()\n",
        "print(\"Using {0} shares from {1} number of shares to recover the secret\" .format(t,s))\n",
        "print()\n",
        "\n",
        "reconstructed_secret = tss.reconstruct_secret(shares[0:t])\n",
        "\n",
        "print()\n",
        "print(\"Reconstructed:\\t\", reconstructed_secret.decode())\n",
        "\n",
        "executionTime = (time.time() - startTime)\n",
        "print('Execution time in seconds: ' + str(executionTime))"
      ],
      "metadata": {
        "colab": {
          "base_uri": "https://localhost:8080/"
        },
        "id": "IYE5zkMS2WuZ",
        "outputId": "48ec86ec-a34e-4dc8-8aef-84a671ed73e0"
      },
      "execution_count": 26,
      "outputs": [
        {
          "output_type": "stream",
          "name": "stdout",
          "text": [
            "\n",
            "The Secret to be shared:\t Hello, I am here for you. Do your best to get closer. There is no reason to live outside the horizon of help.\n",
            "\n",
            "The 4 Shares created from the secret are:\n",
            "=========================================\n",
            "b'MAAAAAAAAAAAAAAAAAAAAAICAI4BPM8UfimRifJsoZCSrtKlKKPUfgIYGo9fydPRQ4HfKuGu1sScTOmJbl39+ro/nVnya0XHY8JCnsJjjcHaXpFAJYNuuMd/nmUJ0/lBAEe5+hmwrmcgo6YevhrKpNI+hoFLJNH3FJA7GZLrEj9pdkfhJGon5nDP8iKduFCRipO/0gP4TFeSYLo1OqLNFk+i'\n",
            "b'MAAAAAAAAAAAAAAAAAAAAAICAI4CoCqcSONNaSS4+oxf/xDH/z0ZTZJQv7Qh+911N3ku5UbR1zWMDVVpQAuBRsDiQRdLZx86UO3k2ydplzbPB6zg+Ky8/Tpdsnug3XUzYDrSdZ0b9lHcyOyQyFQT6xAcr6gA8zdEmlvHmF91i8pCnt9rQdp5D1VbvG9V0xikFXPGzKPGec39p4yDQDLgFWbM'\n",
            "b'MAAAAAAAAAAAAAAAAAAAAAICAI4D1IDkWqXwwJ/0OnHtOacQsr6rXOJo3FQLHC7gG9iIoNINIZN1MsjAWjlc2x+p/C3VYymYQQGGEY1vaJI1ME6As0DyN5hDX3HHLvgdQBEC+eGLN0OIGCPqE26tJ6cCQUY5vpzc4OuT5+32/Jlbxl7kYkO6ob/ehlTkAyC3YNoYxsMlarvYE54Yn0L7FIgf'\n",
            "b'MAAAAAAAAAAAAAAAAAAAAAICAI4Eg/uXJGzuspMLTLTeXY8DShqYK6nA7sLdn8Em35LXYBMv1cysjzayHKd5JTRD4osif6vbNrOzUfZ9o8Pltda7WfIDd9sZ6kfpwXbXoMAEcI5WRj0/HniXJMi6dY9Y/fqWRuA5ndYkgd5SojsUVfRki6HFxh9oIPXeBYjOMKg08Pi6E+IjMuD0tAm6EzQQ'\n",
            "\n",
            "Using 2 shares from 4 number of shares to recover the secret\n",
            "\n",
            "\n",
            "Reconstructed:\t Hello, I am here for you. Do your best to get closer. There is no reason to live outside the horizon of help.\n",
            "Execution time in seconds: 0.008295774459838867\n"
          ]
        }
      ]
    },
    {
      "cell_type": "code",
      "source": [
        "import time\n",
        "startTime = time.time()\n",
        "\n",
        "import tss\n",
        "from tss import Hash\n",
        "import base64\n",
        "\n",
        "secret = \"Hello, I am here for you. Do your best to get closer. There is no reason to live outside the horizon of help.\"\n",
        "t=2\n",
        "s=5\n",
        "\n",
        "shares = tss.share_secret(t, s, secret, Hash.NONE)\n",
        "\n",
        "print()\n",
        "print(\"The Secret to be shared:\\t\", secret)\n",
        "\n",
        "print()\n",
        "print(\"The {0} Shares created from the secret are:\" .format(s))\n",
        "print(\"=========================================\")\n",
        "for x in range (0,s):\n",
        "    print(base64.b64encode(shares[x]))\n",
        "\n",
        "print()\n",
        "print(\"Using {0} shares from {1} number of shares to recover the secret\" .format(t,s))\n",
        "print()\n",
        "\n",
        "reconstructed_secret = tss.reconstruct_secret(shares[0:t])\n",
        "\n",
        "print()\n",
        "print(\"Reconstructed:\\t\", reconstructed_secret.decode())\n",
        "\n",
        "executionTime = (time.time() - startTime)\n",
        "print('Execution time in seconds: ' + str(executionTime))"
      ],
      "metadata": {
        "colab": {
          "base_uri": "https://localhost:8080/"
        },
        "id": "z1pVHVIX2aBD",
        "outputId": "c2fedba5-1fb0-4458-dd24-649064f42a80"
      },
      "execution_count": 31,
      "outputs": [
        {
          "output_type": "stream",
          "name": "stdout",
          "text": [
            "\n",
            "The Secret to be shared:\t Hello, I am here for you. Do your best to get closer. There is no reason to live outside the horizon of help.\n",
            "\n",
            "The 5 Shares created from the secret are:\n",
            "=========================================\n",
            "b'MAAAAAAAAAAAAAAAAAAAAAICAI4BqYTUcwd+QrApHqfHRM7Z38FtseNl7lCQc1YzQeZtWYSpUpZBcZ0zbzzbWmpsGJRG48ShLVetF2y2IGsatYsYyG69L9vixCK6pd09UE2+9GJr5dAE43XnZ6traMa52O/YFvmmFGnjoBp7atm6RUkFfTZ7ZRFM2bSFNgU1BE0NHUHcLCUGdjr3xlg50mRR'\n",
            "b'MAAAAAAAAAAAAAAAAAAAAAICAI4CkbwHUr+I5KAyn+L1MCg/CvlwyEuqTBGklMyqM7dRA4zfxJEtd70GQsnNHXtEUJY4bAb2zNwh0mDY1nlUyphQOW0ByAJ8BvXdMT3LwC7caWu2YCSUSFF5YS1KaDgJE3Q9l2fmmrJs8VROex3/+MO482LBEpdG6lhl1LL3EtS5SSeOuSnOi5cco90ThjAx'\n",
            "b'MAAAAAAAAAAAAAAAAAAAAAICAI4DcF2/Tdfahlk74CgSHIOUsBh7Ftrv2y5BybrdHXFFNX0EtmUJdVQVWZo2IHRcaGES4LEyk6WskWQLhHduFmBon2yclbz/sbgJtJSZsA8L62z96oHk2E36Y6ZVaJuQo/SX6OQv4PvgN25ddKg1k0zTiadePxxA+/XMit9A6aPVjAVJyi1/KQVFgFf8Q/UR'\n",
            "b'MAAAAAAAAAAAAAAAAAAAAAICAI4E4cy6ENR/s4AEhmiR2P/ou4lKOgAvE5PMQeOD1xUpt5wz85/1e/1sGDjhk1kUwJLEaZlYFdEiQ3gEIV3INL7AwGtiHatbmUATAuY8++gYSHkXcdevBRlebToIaN9ynlnsjkBmnR9pU8gkWY51mczZ9Mqu/IBSjJu+C8doPv3K4esqiDFFatbRacxHLpjx'\n",
            "b'MAAAAAAAAAAAAAAAAAAAAAICAI4FAC0CD7wt0XkN+aJ29FRDAWhB5JFqhKwpHJX0+dM9gW3ogWvReRR/A2sarlYM+GXu5S6cSqivAHzXc1Py6Eb4Zmr/QBXYLg3Hh09ui8nPyn5c+3LflQXdb7EXaHzrLtlG8cOv51bllfI3Vju/8kOyjg8x0QtUnTYXVarfxYqmJMnt+zX0yESISkao613R'\n",
            "\n",
            "Using 2 shares from 5 number of shares to recover the secret\n",
            "\n",
            "\n",
            "Reconstructed:\t Hello, I am here for you. Do your best to get closer. There is no reason to live outside the horizon of help.\n",
            "Execution time in seconds: 0.008547544479370117\n"
          ]
        }
      ]
    },
    {
      "cell_type": "code",
      "source": [
        "import time\n",
        "startTime = time.time()\n",
        "\n",
        "import tss\n",
        "from tss import Hash\n",
        "import base64\n",
        "\n",
        "secret = \"Hello, I am here for you. Do your best to get closer. There is no reason to live outside the horizon of help.\"\n",
        "t=3\n",
        "s=8\n",
        "\n",
        "shares = tss.share_secret(t, s, secret, Hash.NONE)\n",
        "\n",
        "print()\n",
        "print(\"The Secret to be shared:\\t\", secret)\n",
        "\n",
        "print()\n",
        "print(\"The {0} Shares created from the secret are:\" .format(s))\n",
        "print(\"=========================================\")\n",
        "for x in range (0,s):\n",
        "    print(base64.b64encode(shares[x]))\n",
        "\n",
        "print()\n",
        "print(\"Using {0} shares from {1} number of shares to recover the secret\" .format(t,s))\n",
        "print()\n",
        "\n",
        "reconstructed_secret = tss.reconstruct_secret(shares[0:t])\n",
        "\n",
        "print()\n",
        "print(\"Reconstructed:\\t\", reconstructed_secret.decode())\n",
        "\n",
        "executionTime = (time.time() - startTime)\n",
        "print('Execution time in seconds: ' + str(executionTime))"
      ],
      "metadata": {
        "colab": {
          "base_uri": "https://localhost:8080/"
        },
        "id": "34neWkhe2uID",
        "outputId": "3867ddf5-63ae-4fec-f0ce-d12c598a5178"
      },
      "execution_count": null,
      "outputs": [
        {
          "output_type": "stream",
          "name": "stdout",
          "text": [
            "\n",
            "The Secret to be shared:\t Hello, I am here for you. Do your best to get closer. There is no reason to live outside the horizon of help.\n",
            "\n",
            "The 8 Shares created from the secret are:\n",
            "=========================================\n",
            "b'MAAAAAAAAAAAAAAAAAAAAAIDAI4B0z4Mp48hyVTHAswWxieXkCRMrSyq695Be/1/edWvl8G+hi5Ailbcir9O0GoqQe7jOW9dNo/MTwQf3CqPbUn6SVRLRCwRuuCbEpOwZ5oe9iz7UqGD8dM6x8CyXjc6ZfjfyHiLsjsPLQAztAQ/yde5FdID/1Rg6/O1RjztWzsrMhX3EACGwi+UwOd1ONGZ'\n",
            "b'MAAAAAAAAAAAAAAAAAAAAAIDAI4C9BmXw2te6KlINPC/lzKpqL744hAID6AFAdAcxslgm+3iNJDvgiGJv0YdslyxRUq8ENmb3iVHgpalLlQ6G7h3Z7Hq1lEfsGR2l4v1WinaNuMNtU2qDxRvPHtZ4TEZpa9p0PMX00DA+ZIdhpUz0YS1gXWZ/dK27MljOysNg5DI/pC8ERU+Fv/splSN6qRf'\n",
            "b'MAAAAAAAAAAAAAAAAAAAAAIDAI4Db0L3CItTAbSvV1GJOXBMXbrSIE6CnRExVA0n0Dy2Y1kuktzKewN1QZZzBVPvJMczRsWjmoSrmfrfgBuVH4KtQIqB4BhveeuDpWwqHd+ttqrWiJldja4xnpuf12MDqDjEcfHzD1ugsrJGV/18NpVik1R+ShyczyP6FX9iJ5GCFOZQXjQPAHjWg2EuxdS3'\n",
            "b'MAAAAAAAAAAAAAAAAAAAAAIDAI4EWZhtoTZzr9cysXHkW6r3FGlEJuPsqgT1UoRMBInF4N8FHy5H6ppaSUPzYIsaQJGu8EKMoWtIThcupo1zfjRDe17fLKPT3UHXNDm8KRh7gSJMdh9/HNuYz6Dw2CBmmA03rXEFd6ONZ7qjyyGvY9lgrtmIFBs/E94x8m/Yu+PcHeLFroo/3hXyR1h4TBKU'\n",
            "b'MAAAAAAAAAAAAAAAAAAAAAIDAI4FwsMNatZ+RsrV0tDS9egS4W1u5L1mOLXBB1l3EnwTGGvJuWJiE7imt5Od14REIRwhpl605cqkVXtUCMLceg6ZXGW0GuqjFM4iBt5jbu4MAWuXS8uInmHGbUA27nJ8lZqaDHPhq7jtLJr4GknghMi3vPhvo9UVMDSo3Du3H+KW95Qp4asOyJLIYm3bY2J8'\n",
            "b'MAAAAAAAAAAAAAAAAAAAAAIDAI4G5eSWDjIBZzda5Ox7pP0s2ffaq4HE3MuFfXQUrWDcFEeVC9zNG8/zgmrOtbLfJbh+j+hyDWAvmOnu+rxpDP8UcoAViJetHkrPg8YmU13IwaRhrCehYKaTlvvdUXRfVc0sFPh9ysMi+AjWKNjsnJu7KF/1oVPDNw5+oSxXx0l1OxFi4L62HEKwBN4jsRe6'\n",
            "b'MAAAAAAAAAAAAAAAAAAAAAIDAI4Hfr/2xdIMjiq9h01NCr/JLPPwad9OTnqxKKkvu5UK7PNZrZDo4u0PfLqgAr2BRDXx2fRKScHDg4WUVPPGCMXOVbt+vt7d18U6sSH5FKu/Qe26kfNW4hzNNBsbZyZFWFqBtfqZFthCsyiN+bCje4psOn4SFp3pFOTnj3g4Y0g/0WeOr5+HCsWKIeuAnmdS'\n",
            "b'MAAAAAAAAAAAAAAAAAAAAAIDAI4IuZDz+4JINWEhKaEae3/DahE2xgTlOCz1XhSCMfIUgQi3AgCVwbgY+NQPh+R5fioM1fKUufNe4sCearABpvj/WGMe+nw9+NMVl3gP61HqRLAgs8nkxy0CSuMywXZ8TGIveGTlpyoa9LZh9VCqIqLIgFNSRMfOH2cst1RRsf39W5GmCU2OooVbKp/xfw5y'\n",
            "\n",
            "Using 3 shares from 8 number of shares to recover the secret\n",
            "\n",
            "\n",
            "Reconstructed:\t Hello, I am here for you. Do your best to get closer. There is no reason to live outside the horizon of help.\n",
            "Execution time in seconds: 0.010010719299316406\n"
          ]
        }
      ]
    },
    {
      "cell_type": "code",
      "source": [
        "import time\n",
        "startTime = time.time()\n",
        "\n",
        "import tss\n",
        "from tss import Hash\n",
        "import base64\n",
        "\n",
        "secret = \"Hello, I am here for you. Do your best to get closer. There is no reason to live outside the horizon of help.\"\n",
        "t=3\n",
        "s=3\n",
        "\n",
        "shares = tss.share_secret(t, s, secret, Hash.NONE)\n",
        "\n",
        "print()\n",
        "print(\"The Secret to be shared:\\t\", secret)\n",
        "\n",
        "print()\n",
        "print(\"The {0} Shares created from the secret are:\" .format(s))\n",
        "print(\"=========================================\")\n",
        "for x in range (0,s):\n",
        "    print(base64.b64encode(shares[x]))\n",
        "\n",
        "print()\n",
        "print(\"Using {0} shares from {1} number of shares to recover the secret\" .format(t,s))\n",
        "print()\n",
        "\n",
        "reconstructed_secret = tss.reconstruct_secret(shares[0:t])\n",
        "\n",
        "print()\n",
        "print(\"Reconstructed:\\t\", reconstructed_secret.decode())\n",
        "\n",
        "executionTime = (time.time() - startTime)\n",
        "print('Execution time in seconds: ' + str(executionTime))\n"
      ],
      "metadata": {
        "colab": {
          "base_uri": "https://localhost:8080/"
        },
        "id": "-RxsDncu2yKA",
        "outputId": "6dbe9204-13cd-4bea-8cca-1ecef35b1454"
      },
      "execution_count": null,
      "outputs": [
        {
          "output_type": "stream",
          "name": "stdout",
          "text": [
            "\n",
            "The Secret to be shared:\t Hello, I am here for you. Do your best to get closer. There is no reason to live outside the horizon of help.\n",
            "\n",
            "The 3 Shares created from the secret are:\n",
            "=========================================\n",
            "b'MAAAAAAAAAAAAAAAAAAAAAIDAI4ByGhSP3jK7rLV4lkQO6Yu/SUd366X/gJJjSTAznMhSenstJYUyVGAx+nkvb6XOhfUxfe5bRHoM/+dcIIX7xtVjYwZSc2v239GDFBb+CZ2rtgBTF0Yrz6iX/q5G6L8D98bY+Mj4OchAnfkj3MJWPLMfxJ9HdIisUyi0W7ZJyCSRl7igxjxlFnqitLfq2H8'\n",
            "b'MAAAAAAAAAAAAAAAAAAAAAIDAI4CdF4IDvVQ9MiHLq6Wsd6556nKX5hYgHjXU1213qzaZCcveIFWlKX71S9LkwX4ZCtGO+la1pdbDaldFLQWan8NrGdPaW0LMLXD91xTUR3npSda/TjayASO4o44CRyLkx2qGW/MJz+fmBbNIJL+QJ8OkO1hev0sX+SFLsY9iKgivoGNzgpw8FME1G95+9L+'\n",
            "b'MAAAAAAAAAAAAAAAAAAAAAIDAI4D9FM2XeK2OjNyrZqm4h3lf6yx70TvBxXr8Fkxf/+CQrux7HUnLoBbZqmPSd4bfl/+kW2GyaiTaj6lFlMh7Bd4T4R2UsXFmKXr23hniVf4fZp73hC2FFNI2FT1ettX9K3DE/aAqfjR/EFByo2HNqus6Az4L7VEJrELl8BmULLRILx0EjM2sKJAu29wRxJz'\n",
            "\n",
            "Using 3 shares from 3 number of shares to recover the secret\n",
            "\n",
            "\n",
            "Reconstructed:\t Hello, I am here for you. Do your best to get closer. There is no reason to live outside the horizon of help.\n",
            "Execution time in seconds: 0.00874638557434082\n"
          ]
        }
      ]
    },
    {
      "cell_type": "code",
      "source": [
        "import time\n",
        "startTime = time.time()\n",
        "\n",
        "import tss\n",
        "from tss import Hash\n",
        "import base64\n",
        "\n",
        "secret = \"Hello, I am here for you. Do your best to get closer. There is no reason to live outside the horizon of help.\"\n",
        "t=3\n",
        "s=4\n",
        "\n",
        "shares = tss.share_secret(t, s, secret, Hash.NONE)\n",
        "\n",
        "print()\n",
        "print(\"The Secret to be shared:\\t\", secret)\n",
        "\n",
        "print()\n",
        "print(\"The {0} Shares created from the secret are:\" .format(s))\n",
        "print(\"=========================================\")\n",
        "for x in range (0,s):\n",
        "    print(base64.b64encode(shares[x]))\n",
        "\n",
        "print()\n",
        "print(\"Using {0} shares from {1} number of shares to recover the secret\" .format(t,s))\n",
        "print()\n",
        "\n",
        "reconstructed_secret = tss.reconstruct_secret(shares[0:t])\n",
        "\n",
        "print()\n",
        "print(\"Reconstructed:\\t\", reconstructed_secret.decode())\n",
        "\n",
        "executionTime = (time.time() - startTime)\n",
        "print('Execution time in seconds: ' + str(executionTime))"
      ],
      "metadata": {
        "colab": {
          "base_uri": "https://localhost:8080/"
        },
        "id": "eELGQZ1F3BIo",
        "outputId": "38662a33-9517-4d2d-fee7-a156f41e7d8b"
      },
      "execution_count": null,
      "outputs": [
        {
          "output_type": "stream",
          "name": "stdout",
          "text": [
            "\n",
            "The Secret to be shared:\t Hello, I am here for you. Do your best to get closer. There is no reason to live outside the horizon of help.\n",
            "\n",
            "The 4 Shares created from the secret are:\n",
            "=========================================\n",
            "b'MAAAAAAAAAAAAAAAAAAAAAIDAI4BO+5HocHZCI7C/2qfaPAVnfPG2Frc2P//Wj1zezQfgd0U/5HXmfXf0fjZ4ZfGPZ25l0/I6dGC71Jejwsgx76uLMg5Pf4affMxs7Q7hwjSh7IlmiorJggXVdM133rWqC4d2BHtAnhon6s7DBqQUTHcSE50mYwF+cTYdqiyVTo1+Nq6Id+ccJmN9wnjnZCq'\n",
            "b'MAAAAAAAAAAAAAAAAAAAAAIDAI4CfX8GAA8fAu6fI+6UeEhUCxslIzRKXrWdllDwepIG7wDs7XTbrAJgkUSaqzfvhvULf2n5x46lclAr4K7HiMru6aXW9QiM4d9L2EC12+bbL5D1HEHRoFveFfFgkkd8QxK8y5kppr3UcTfgQxMoc9Q/9LPa8K4RDkJoeaQWjXdFnp+JZnpK/z5IW6wJWOCE'\n",
            "b'MAAAAAAAAAAAAAAAAAAAAAIDAI4DDvQtzaHqKil9vekreN0z88iFlBy2/yUX4k3HboZgAaiKModpRoOfNNNjLcVdmwveh1VUXHEHyWoQHcDHJgdgqwLPupP370MUS4DhfIJg3kfw6R6O9TqtJQIhJViKg1PTevKryuXTiLyzKmXIDCONuw5KIbheP5+cZ2QmJ3cRviYoGIRhWw9rSXc80tFf'\n",
            "b'MAAAAAAAAAAAAAAAAAAAAAIDAI4EQw1ILTNvt9TeanI6CE+zm3iAE6bm1GkPHvNysQF9c2cGGs8rlj8CQ0EYpUPkMYvXjtQfVXp0LzMZmrREHvqud6rqA6TMQm5+8pYTQ3BHco/AtwNJMeBgxSkyjVECyES1d3OcpbXgnWbb1Oj6LlN0VfeMJ5LF+WpO/qxM748vTOIlFFHMeWLP3E+Rkq/7'\n",
            "\n",
            "Using 3 shares from 4 number of shares to recover the secret\n",
            "\n",
            "\n",
            "Reconstructed:\t Hello, I am here for you. Do your best to get closer. There is no reason to live outside the horizon of help.\n",
            "Execution time in seconds: 0.014345407485961914\n"
          ]
        }
      ]
    },
    {
      "cell_type": "code",
      "source": [
        "import time\n",
        "startTime = time.time()\n",
        "\n",
        "import tss\n",
        "from tss import Hash\n",
        "import base64\n",
        "\n",
        "secret = \"Hello, I am here for you. Do your best to get closer. There is no reason to live outside the horizon of help.\"\n",
        "t=3\n",
        "s=5\n",
        "\n",
        "shares = tss.share_secret(t, s, secret, Hash.NONE)\n",
        "\n",
        "print()\n",
        "print(\"The Secret to be shared:\\t\", secret)\n",
        "\n",
        "print()\n",
        "print(\"The {0} Shares created from the secret are:\" .format(s))\n",
        "print(\"=========================================\")\n",
        "for x in range (0,s):\n",
        "    print(base64.b64encode(shares[x]))\n",
        "\n",
        "print()\n",
        "print(\"Using {0} shares from {1} number of shares to recover the secret\" .format(t,s))\n",
        "print()\n",
        "\n",
        "reconstructed_secret = tss.reconstruct_secret(shares[0:t])\n",
        "\n",
        "print()\n",
        "print(\"Reconstructed:\\t\", reconstructed_secret.decode())\n",
        "\n",
        "executionTime = (time.time() - startTime)\n",
        "print('Execution time in seconds: ' + str(executionTime))"
      ],
      "metadata": {
        "id": "lPX9y6nV3DcO",
        "outputId": "ad1f994e-8146-4cce-ff00-f566cc28b1c0",
        "colab": {
          "base_uri": "https://localhost:8080/"
        }
      },
      "execution_count": null,
      "outputs": [
        {
          "output_type": "stream",
          "name": "stdout",
          "text": [
            "\n",
            "The Secret to be shared:\t Hello, I am here for you. Do your best to get closer. There is no reason to live outside the horizon of help.\n",
            "\n",
            "The 5 Shares created from the secret are:\n",
            "=========================================\n",
            "b'MAAAAAAAAAAAAAAAAAAAAAIDAI4BhFMhhCAPVNlsH7k/wB/YJ9IU9YaWk6RFwq9vaYynCxvmB9fxV/xa3Qds+UCpYPyB+RblrPHF1JWNf9i/QnQD+OLEfPHg6zP4HPqhyP5gO4UnOpF+fYMHyZguZ5R3NYT+WVDCXpCF5/xTEpj9HBZJT40CNOBmIG8WxhUVODoMMqroNXHjE5heVVX/aXLd'\n",
            "b'MAAAAAAAAAAAAAAAAAAAAAIDAI4Co3DncfBe+0GZ1KmAp1QatjHr98Q80zIxatIn7XCgXtoJ6ItXq8dNUjl12/ueVEnV7jaGzgn2x7w8TFOVjitwsbi122zFJKVmBfcYL5SmmH9gwovVp6S8Ci02YCpNwS39u5CEkIz1rmhCALqsza1egx6XGgcLwyjYk3XiXhmCHsbvNdMjkzsgnmJL8Tko'\n",
            "b'MAAAAAAAAAAAAAAAAAAAAAIDAI4Db0aqmb99j9HVqn2fDy6w9MOZbTCKOfkBhl0M69x+OrSdzz7Dj083+1E5Rd5DFNY4eFMGENYTR0HUQe4KpSxTJzVR1fhEvPnwOXnWxwav1Z9nl2/fqU7fppVsb9sanMZxi7opoDwfL7R5d04h/315y2BxZn0nK17iPQh1mRnv9A8cX4N3VAvQLuVij+qE'\n",
            "b'MAAAAAAAAAAAAAAAAAAAAAIDAI4EPrAlI04YQZXNLzk1yz4+n5fYrgqvubhtjC5WfswzxOe/hf0Frt+on+2TXj+MNQv+mPN1fV6Lfw+pnk4nToDYRq8S2Z/wNjOCBU9sA7a1eniDMibPzeC3C7kFIBXbbeFxKHs8xxIPhDFXtU+K2X3tRHakcgSs8yLpQ+MNdvBYa4LMRY10P3RmEwvmqB6r'\n",
            "b'MAAAAAAAAAAAAAAAAAAAAAIDAI4F8oZoywE7NQWBUe0qY0SU3WWqNP4ZU3NdYKF9eGDtoIkrokiRilfSNoXfwBpRdZQTDpb1o4Fu//JBk/O4ZYf70CL21wtxrm8UOcGi6yS8N5iEZ8LFwwrUpwFfL+SMMAr9GFGR96LlBe1swrsH663KDAhCDn6AG1TT7Z6asfA1gUs/L90g+ESWo4zP1s0H'\n",
            "\n",
            "Using 3 shares from 5 number of shares to recover the secret\n",
            "\n",
            "\n",
            "Reconstructed:\t Hello, I am here for you. Do your best to get closer. There is no reason to live outside the horizon of help.\n",
            "Execution time in seconds: 0.008057594299316406\n"
          ]
        }
      ]
    },
    {
      "cell_type": "code",
      "source": [
        "pip install tss==0.1"
      ],
      "metadata": {
        "colab": {
          "base_uri": "https://localhost:8080/"
        },
        "id": "NpBhqaOsiD0y",
        "outputId": "5a667440-3c33-44e0-f721-e8a5853ace6d"
      },
      "execution_count": 2,
      "outputs": [
        {
          "output_type": "stream",
          "name": "stdout",
          "text": [
            "Collecting tss==0.1\n",
            "  Downloading tss-0.1.tar.gz (4.8 kB)\n",
            "Building wheels for collected packages: tss\n",
            "  Building wheel for tss (setup.py) ... \u001b[?25l\u001b[?25hdone\n",
            "  Created wheel for tss: filename=tss-0.1-py3-none-any.whl size=5055 sha256=18a5f001e14750a03ba56d4161ff0d60891ecfa881db1190de187e69241c0f76\n",
            "  Stored in directory: /root/.cache/pip/wheels/cb/7a/ec/12236b09c459b7fb5c93478c666da3282a69b92d5bb61b47c0\n",
            "Successfully built tss\n",
            "Installing collected packages: tss\n",
            "Successfully installed tss-0.1\n"
          ]
        }
      ]
    }
  ]
}